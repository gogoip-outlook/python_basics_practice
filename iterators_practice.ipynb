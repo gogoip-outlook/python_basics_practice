{
  "nbformat": 4,
  "nbformat_minor": 0,
  "metadata": {
    "colab": {
      "name": "iterators_practice.ipynb",
      "private_outputs": true,
      "provenance": [],
      "authorship_tag": "ABX9TyOx0OeDJbeevNJKalaLqQl1",
      "include_colab_link": true
    },
    "kernelspec": {
      "name": "python3",
      "display_name": "Python 3"
    },
    "language_info": {
      "name": "python"
    }
  },
  "cells": [
    {
      "cell_type": "markdown",
      "metadata": {
        "id": "view-in-github",
        "colab_type": "text"
      },
      "source": [
        "<a href=\"https://colab.research.google.com/github/gogoip-outlook/python_basics_practice/blob/main/iterators_practice.ipynb\" target=\"_parent\"><img src=\"https://colab.research.google.com/assets/colab-badge.svg\" alt=\"Open In Colab\"/></a>"
      ]
    },
    {
      "cell_type": "markdown",
      "source": [
        "<h3><font color=\"lightblue\">An <b>Iterable</b> is something which has an <em>__iter__</em> method.<br> We can loop over the object using <em>__iter__</em> method. <br>But it does not contain a <em>__next__</em> method and can't remember where it is currently. <br><br>\n",
        "An <b>Iterator</b> has both <em>__iter__ and __next__</em> method.\n",
        "</font></h3>"
      ],
      "metadata": {
        "id": "Tq_2IWwVaiPB"
      }
    },
    {
      "cell_type": "code",
      "source": [
        "l = ['a','b','c','d'] #defining a simple list"
      ],
      "metadata": {
        "id": "ReuExGr0V-Bp"
      },
      "execution_count": null,
      "outputs": []
    },
    {
      "cell_type": "code",
      "source": [
        "y = \"is a iterable\" if '__iter__' in dir(l) else \"not an iterable\"\n",
        "print(y) #list is an iterable and has only an __iter__ method"
      ],
      "metadata": {
        "id": "4V_esPe9TbdP"
      },
      "execution_count": null,
      "outputs": []
    },
    {
      "cell_type": "code",
      "source": [
        "y = \"is a iterator\" if '__next__' in dir(l) else \"not an iterator\"\n",
        "y #list is not an iterator and does not have a __next__ method"
      ],
      "metadata": {
        "id": "5h5dF4lQU1LF"
      },
      "execution_count": null,
      "outputs": []
    },
    {
      "cell_type": "markdown",
      "source": [
        "<h3><font color=\"lightblue\">Defining a function to check if an object is iterator or just an iterable</font></h3>\n",
        "\n",
        "---\n",
        "\n"
      ],
      "metadata": {
        "id": "SdnjfkBffnnz"
      }
    },
    {
      "cell_type": "code",
      "source": [
        "def check_iterator(l):\n",
        "  dir_l = dir(l)\n",
        "  if '__iter__' in dir_l and '__next__' in dir_l:\n",
        "    return \"is an iterable and an iterator\"\n",
        "  elif '__iter__' in dir_l:\n",
        "    return \"is an iterable but not an iterator\"\n",
        "  else:\n",
        "    return \"not an iterable\"\n",
        "\n",
        "check_iterator(l)\n"
      ],
      "metadata": {
        "id": "89QWkLcSV0Wu"
      },
      "execution_count": null,
      "outputs": []
    },
    {
      "cell_type": "code",
      "source": [
        "x = (1,3,5,7,9,11)\n",
        "y = {1:'pran',2:'pratim',3:'gogoi'}\n",
        "print('x',check_iterator(x))\n",
        "print('y',check_iterator(y))"
      ],
      "metadata": {
        "id": "ihautFYfWn3_"
      },
      "execution_count": null,
      "outputs": []
    },
    {
      "cell_type": "markdown",
      "source": [
        "<h3><font color=\"lightblue\">We can call __iter__() or iter() method to return an iterator from a container</font></h3>"
      ],
      "metadata": {
        "id": "ErNLKCaef716"
      }
    },
    {
      "cell_type": "code",
      "source": [
        "xx = iter(x) #returns an iterator object\n",
        "print(type(xx)) #check type\n",
        "print('xx',check_iterator(xx)) #calling previously defined method\n",
        "'''_____________\n",
        "  #We can now call next method and get next element from the iterator object\n",
        "  Once the elements are exshausted it returns an StopIteration exception\n",
        "  _______________'''\n",
        "\n",
        "print(next(xx)) \n",
        "print(next(xx))\n",
        "print(next(xx))\n",
        "print(next(xx))\n",
        "print(next(xx))\n",
        "print(next(xx))\n",
        "try:\n",
        "  print(next(xx))\n",
        "except StopIteration:\n",
        "  print(\"StopIteration raised\")"
      ],
      "metadata": {
        "id": "lC04MTPVW7En"
      },
      "execution_count": null,
      "outputs": []
    },
    {
      "cell_type": "markdown",
      "source": [
        "<h3><font color=\"lightblue\">We can define our own iterators by implementing these methods in our class</font><h3>"
      ],
      "metadata": {
        "id": "1ie-s6iVmAsF"
      }
    },
    {
      "cell_type": "code",
      "source": [
        "class odd_nums():\n",
        "  def __init__(self,start,end):\n",
        "    self.start = start\n",
        "    self.end = end\n",
        "    self.current = start\n",
        "\n",
        "  def __iter__(self):\n",
        "    return self\n",
        "\n",
        "  def __next__(self):\n",
        "    value = self.current\n",
        "    if value < self.end:\n",
        "      self.current += 2\n",
        "      return value\n",
        "    else:\n",
        "      raise StopIteration\n",
        "\n",
        "odd = odd_nums(1,10)\n",
        "print(next(odd))\n",
        "print(next(odd))\n",
        "print(next(odd))\n",
        "print(next(odd))\n",
        "print(next(odd))\n",
        "    "
      ],
      "metadata": {
        "id": "jnO69nxhgtPg"
      },
      "execution_count": null,
      "outputs": []
    },
    {
      "cell_type": "markdown",
      "source": [
        "<h3><font color=\"lightblue\">Generators dont require us to define __next__ and __iter__ methods explicitly<br>They are defined automatically for us</h3></font>"
      ],
      "metadata": {
        "id": "LRRHOrgGogD5"
      }
    },
    {
      "cell_type": "code",
      "source": [
        "def odd_nums_gen(start,end):\n",
        "  current = start\n",
        "  while current < end:\n",
        "    yield current\n",
        "    current += 2\n",
        "\n",
        "odds = odd_nums_gen(20,30)\n",
        "print(next(odds))\n",
        "print(next(odds))\n",
        "print(next(odds))\n",
        "print(next(odds))\n",
        "print(next(odds))\n",
        "#print(next(odds)) #this will raise StopIteration"
      ],
      "metadata": {
        "id": "RGnDq78Yn3JK"
      },
      "execution_count": null,
      "outputs": []
    },
    {
      "cell_type": "code",
      "source": [
        "\n"
      ],
      "metadata": {
        "id": "eaD79u2IpTj2"
      },
      "execution_count": null,
      "outputs": []
    },
    {
      "cell_type": "code",
      "source": [
        ""
      ],
      "metadata": {
        "id": "ejnXVc6yp61u"
      },
      "execution_count": null,
      "outputs": []
    }
  ]
}