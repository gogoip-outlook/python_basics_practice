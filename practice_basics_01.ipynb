{
  "nbformat": 4,
  "nbformat_minor": 0,
  "metadata": {
    "colab": {
      "name": "practice_basics_01.ipynb",
      "private_outputs": true,
      "provenance": [],
      "collapsed_sections": [],
      "toc_visible": true,
      "authorship_tag": "ABX9TyOWlAqukHNOoRDa4K8gkqWX",
      "include_colab_link": true
    },
    "kernelspec": {
      "name": "python3",
      "display_name": "Python 3"
    },
    "language_info": {
      "name": "python"
    }
  },
  "cells": [
    {
      "cell_type": "markdown",
      "metadata": {
        "id": "view-in-github",
        "colab_type": "text"
      },
      "source": [
        "<a href=\"https://colab.research.google.com/github/gogoip-outlook/python_basics_practice/blob/main/practice_basics_01.ipynb\" target=\"_parent\"><img src=\"https://colab.research.google.com/assets/colab-badge.svg\" alt=\"Open In Colab\"/></a>"
      ]
    },
    {
      "cell_type": "markdown",
      "source": [
        "Content:\n",
        "\n",
        "\n",
        "1.   CSV\n",
        "2.   global keyword\n",
        "3.   string methods e.g. strip, split\n",
        "\n",
        "Exercise ideas:\n",
        "4.   parse all files in current directory for Regular Expression pattern. And output a dictionary containing workflow runid and name.\n",
        "    *   try to find if file contains header using #\n",
        "    *   read file using csv and get required columns into another file\n",
        "5.   explore syntax constructs like f.readline()[:-1] and split('|')\n",
        "\n"
      ],
      "metadata": {
        "id": "rhSr2VA9S4XE"
      }
    },
    {
      "cell_type": "markdown",
      "source": [
        "# CSV"
      ],
      "metadata": {
        "id": "cht9dL257D99"
      }
    },
    {
      "cell_type": "markdown",
      "source": [
        "Reading csv using csv.reader returns an iterable with a list of rows. We can subscript each individual list to access the columns. But we cannot use column names. For that we need to use DictReader() method which will return a dictionary and the keys will by default be taken from first line."
      ],
      "metadata": {
        "id": "FlMYgZ1DXF52"
      }
    },
    {
      "cell_type": "code",
      "execution_count": null,
      "metadata": {
        "id": "GDFctyOvS1EN"
      },
      "outputs": [],
      "source": [
        "import csv\n",
        "\n",
        "line_count=0\n",
        "with open('/content/sample_data/california_housing_test.csv','r') as f:\n",
        "  csv_reader = csv.reader(f,delimiter=',')\n",
        "  for row in csv_reader:\n",
        "    if line_count == 0:\n",
        "      print(', '.join(row))\n",
        "      line_count += 1\n",
        "    elif 0 < line_count < 10 :  \n",
        "      print(', '.join([row[0],row[1]])) # columns can only be accessed using subscripts as row is a list.\n",
        "      line_count += 1\n"
      ]
    },
    {
      "cell_type": "code",
      "source": [
        "line_count = 0\n",
        "with open('/content/sample_data/california_housing_test.csv','r') as f:\n",
        "  csvDict = csv.DictReader(f, delimiter=',')\n",
        "  for row in csvDict:\n",
        "    if line_count == 0:\n",
        "      print(', '.join(row))\n",
        "      line_count += 1\n",
        "    elif line_count == 1:\n",
        "      print(row['longitude'],row['latitude']) # columns can be accessed using column-names\n",
        "      line_count += 1\n",
        "    else:\n",
        "      pass"
      ],
      "metadata": {
        "id": "fsyFMpwHE-iJ"
      },
      "execution_count": null,
      "outputs": []
    },
    {
      "cell_type": "markdown",
      "source": [
        "Defining a new file with total_bedrooms, housing_median_age, median_house_value"
      ],
      "metadata": {
        "id": "32cq3cbb9WVw"
      }
    },
    {
      "cell_type": "code",
      "source": [
        "new_csv = []\n",
        "headers = ['total_bedrooms', 'housing_median_age', 'median_house_value']\n",
        "with open('/content/sample_data/california_housing_test.csv','r') as f:\n",
        "  csvDict = csv.DictReader(f, delimiter=',')\n",
        "  for row in csvDict:\n",
        "    new_csv.append(list( row[i] for i in headers )) #uses previously defined headers\n",
        "\n",
        "i = 0\n",
        "for row in new_csv:\n",
        "  if i < 10:\n",
        "    print(row)\n",
        "    i += 1\n",
        "\n",
        "with open('/content/housing_data.csv','w') as f:\n",
        "  csvwriter = csv.writer(f)\n",
        "  csvwriter.writerow(headers)\n",
        "  csvwriter.writerows(new_csv)\n"
      ],
      "metadata": {
        "id": "7RrM5tBt9ifR"
      },
      "execution_count": null,
      "outputs": []
    },
    {
      "cell_type": "markdown",
      "source": [
        "# global keyword"
      ],
      "metadata": {
        "id": "fTFr7Pf97M1x"
      }
    },
    {
      "cell_type": "code",
      "source": [
        "def foo():\n",
        "    x = 20\n",
        "\n",
        "    def bar():\n",
        "        global x\n",
        "        x = 25\n",
        "    \n",
        "    print(\"Before calling bar: \", x)\n",
        "    print(\"Calling bar now\")\n",
        "    bar()\n",
        "    print(\"After calling bar: \", x)\n",
        "\n",
        "foo()\n",
        "print(\"x in main: \", x)"
      ],
      "metadata": {
        "id": "iJ6fY6tM2p1o"
      },
      "execution_count": null,
      "outputs": []
    },
    {
      "cell_type": "markdown",
      "source": [
        "# core concepts\n",
        "The f means Formatted string literals and it's new in Python 3.6"
      ],
      "metadata": {
        "id": "4eXAUmwz6mJg"
      }
    },
    {
      "cell_type": "code",
      "source": [
        "x = 100\n",
        "print(f'Hi {x}') # without f we cannot dynamically replace value for x"
      ],
      "metadata": {
        "id": "-m071TxV21XO"
      },
      "execution_count": null,
      "outputs": []
    },
    {
      "cell_type": "markdown",
      "source": [
        "rstrip, lstrip?"
      ],
      "metadata": {
        "id": "W82HNwCS8rTZ"
      }
    },
    {
      "cell_type": "code",
      "source": [
        "x = '   Pran Gogoi   '\n",
        "print(x , 'EOF')\n",
        "print(x.rstrip() , 'EOF')\n",
        "print(x.lstrip() , 'EOF')\n",
        "print(x.strip() , 'EOF')"
      ],
      "metadata": {
        "id": "DnVCDa686ZNk"
      },
      "execution_count": null,
      "outputs": []
    },
    {
      "cell_type": "markdown",
      "source": [
        "Find where a string occurs like 'instr' in oracle"
      ],
      "metadata": {
        "id": "XRd9dFsrOO2b"
      }
    },
    {
      "cell_type": "code",
      "source": [
        "x = 'Man is a cruel being, man can be selfish'\n",
        "indexes = [ i for i in range(len(x)) if x.lower().startswith('man',i,len(x)) ]\n",
        "print(indexes)"
      ],
      "metadata": {
        "id": "_jtTQiZo83OS"
      },
      "execution_count": null,
      "outputs": []
    },
    {
      "cell_type": "markdown",
      "source": [
        "replacing a text is easy"
      ],
      "metadata": {
        "id": "lPU4YqNPxzGu"
      }
    },
    {
      "cell_type": "code",
      "source": [
        "y = x.lower().replace('man','cat')\n",
        "y"
      ],
      "metadata": {
        "id": "dulIEKacs_mO"
      },
      "execution_count": null,
      "outputs": []
    },
    {
      "cell_type": "markdown",
      "source": [
        "Checking for an empty string, NOTE: that this way of comparison is faster than z == '' or z is '' <br> There are other comparison functions such as <em> isalnum(), isalpha(), isdecimal(), isnumeric(), isspace() etc </em>"
      ],
      "metadata": {
        "id": "YsClOKi51l9e"
      }
    },
    {
      "cell_type": "code",
      "source": [
        "z = ''\n",
        "not z"
      ],
      "metadata": {
        "id": "eTZLv7ESx4mJ"
      },
      "execution_count": null,
      "outputs": []
    },
    {
      "cell_type": "markdown",
      "source": [
        "There are host of other string methods such as "
      ],
      "metadata": {
        "id": "fOTLyemZ15GB"
      }
    },
    {
      "cell_type": "code",
      "source": [
        "x.s"
      ],
      "metadata": {
        "id": "D_xqsVBv1r2e"
      },
      "execution_count": null,
      "outputs": []
    }
  ]
}